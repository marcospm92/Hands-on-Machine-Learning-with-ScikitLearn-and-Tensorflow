{
 "cells": [
  {
   "cell_type": "code",
   "execution_count": 69,
   "metadata": {},
   "outputs": [],
   "source": [
    "%matplotlib inline\n",
    "import matplotlib\n",
    "import matplotlib.pyplot as plt\n",
    "import numpy as np\n",
    "import os\n",
    "from sklearn.linear_model import SGDClassifier\n",
    "from sklearn.model_selection import cross_val_score\n",
    "from sklearn.model_selection import cross_val_predict\n",
    "from sklearn.metrics import confusion_matrix\n",
    "from sklearn.metrics import precision_score, recall_score, f1_score, precision_recall_curve, roc_curve \n",
    "from sklearn.metrics import roc_auc_score\n",
    "from sklearn.ensemble import RandomForestClassifier\n",
    "\n",
    "# Antes se usaba otra función en la que venían los datos ordenados, pero la cambiarion y vienen sin orden\n",
    "# Para solucionarlo definimos esta función\n",
    "\n",
    "def sort_by_target(mnist):\n",
    "    reorder_train = np.array(sorted([(target, i) for i, target in enumerate(mnist.target[:60000])]))[:, 1]\n",
    "    reorder_test = np.array(sorted([(target, i) for i, target in enumerate(mnist.target[60000:])]))[:, 1]\n",
    "    mnist.data[:60000] = mnist.data[reorder_train]\n",
    "    mnist.target[:60000] = mnist.target[reorder_train]\n",
    "    mnist.data[60000:] = mnist.data[reorder_test + 60000]\n",
    "    mnist.target[60000:] = mnist.target[reorder_test + 60000]\n",
    "\n",
    "try:\n",
    "    from sklearn.datasets import fetch_openml\n",
    "    mnist = fetch_openml('mnist_784', version=1, cache=True)\n",
    "    mnist.target = mnist.target.astype(np.int8) # fetch_openml() returns targets as strings\n",
    "    sort_by_target(mnist) # fetch_openml() returns an unsorted dataset\n",
    "except ImportError:\n",
    "    from sklearn.datasets import fetch_mldata\n",
    "    mnist = fetch_mldata('MNIST original')\n",
    "\n",
    "# mnist[\"data\"] es un array de una fila por instancia y una columna por \"feature\"\n",
    "# mnist[\"target\"] es un array con los labels\n",
    "\n",
    "X, y = mnist[\"data\"], mnist[\"target\"]"
   ]
  },
  {
   "cell_type": "code",
   "execution_count": 28,
   "metadata": {},
   "outputs": [
    {
     "data": {
      "text/plain": [
       "(70000, 784)"
      ]
     },
     "execution_count": 28,
     "metadata": {},
     "output_type": "execute_result"
    }
   ],
   "source": [
    "# Podemos comprobar la forma, 70.000 imágenes con 784 atributos, 28*28 pixeles que pueden ir de 0 (blanco)\n",
    "# a 255 (negro)\n",
    "\n",
    "X.shape"
   ]
  },
  {
   "cell_type": "code",
   "execution_count": 29,
   "metadata": {},
   "outputs": [
    {
     "data": {
      "text/plain": [
       "(70000,)"
      ]
     },
     "execution_count": 29,
     "metadata": {},
     "output_type": "execute_result"
    }
   ],
   "source": [
    "# y debe tener 70.000 labels, una por instancia o imagen\n",
    "\n",
    "y.shape"
   ]
  },
  {
   "cell_type": "code",
   "execution_count": 30,
   "metadata": {},
   "outputs": [
    {
     "data": {
      "image/png": "[encoded data removed]",
      "text/plain": [
       "<Figure size 432x288 with 1 Axes>"
      ]
     },
     "metadata": {
      "needs_background": "light"
     },
     "output_type": "display_data"
    }
   ],
   "source": [
    "# Vamos a tomar una imagen cualquiera y mostrarla, por ejemplo la 36000. Tomamos su vector X, la escalamos a\n",
    "# un array de 28*28, y hacemos el plot con imshow.\n",
    "\n",
    "some_digit = X[36000]\n",
    "some_digit_image = some_digit.reshape(28, 28)\n",
    "\n",
    "plt.imshow(some_digit_image, cmap = matplotlib.cm.binary, interpolation=\"nearest\")\n",
    "plt.axis(\"off\")\n",
    "plt.show()"
   ]
  },
  {
   "cell_type": "code",
   "execution_count": 31,
   "metadata": {},
   "outputs": [
    {
     "data": {
      "text/plain": [
       "5"
      ]
     },
     "execution_count": 31,
     "metadata": {},
     "output_type": "execute_result"
    }
   ],
   "source": [
    "# Tiene pinta de ser un 5, y lo comprobamos viendo su label\n",
    "\n",
    "y[36000]"
   ]
  },
  {
   "cell_type": "code",
   "execution_count": 32,
   "metadata": {},
   "outputs": [],
   "source": [
    "# Antes de empezar a trabajar con el dataset debemos separar el training set del test set.\n",
    "# MNIST ya viene preparado para ello, las primeras 60.000 imagenes para training y las 10.000 restantes test.\n",
    "\n",
    "X_train, X_test, y_train, y_test = X[:60000], X[60000:], y[:60000], y[60000:]"
   ]
  },
  {
   "cell_type": "code",
   "execution_count": 33,
   "metadata": {},
   "outputs": [],
   "source": [
    "# Deberíamos también mezclar los datos para que los folds de cross-validation sean similares y no falten dígitos\n",
    "\n",
    "shuffle_index = np.random.permutation(60000)\n",
    "X_train, y_train = X_train[shuffle_index], y_train[shuffle_index]"
   ]
  },
  {
   "cell_type": "code",
   "execution_count": 35,
   "metadata": {},
   "outputs": [],
   "source": [
    "# Clasificador Binario\n",
    "\n",
    "# Vamos a simplificar primero el problema, entrenando un sistema que detecte si un dígito es un 5 o no lo es.\n",
    "# Primero creamos los vectores objetivo para esta tarea de clasificación\n",
    "\n",
    "y_train_5 = (y_train == 5) # Verdadero para los 5s, falso para todos los demás\n",
    "y_test_5 = (y_test == 5)"
   ]
  },
  {
   "cell_type": "code",
   "execution_count": 36,
   "metadata": {},
   "outputs": [
    {
     "data": {
      "text/plain": [
       "array([ True])"
      ]
     },
     "execution_count": 36,
     "metadata": {},
     "output_type": "execute_result"
    }
   ],
   "source": [
    "# SGD Classifier\n",
    "# Un buen lugar para empezar es un 'Stochastic Gradient Descent Classifier', usando las herramientas de \n",
    "# Scikit-Learn. Este clasificador es capaz de manejar muchos datos de forma eficaz. Lo entrenaremos con todo el\n",
    "# training set, con 'random_state' fijo a 42 ya que si no sería aleatorio, así siempre nos sale lo mismo. Los\n",
    "# parámetros max_iter y tol son relativamente nuevos, así que añadimos estos valores para que cuadren con el libro\n",
    "\n",
    "sgd_clf = SGDClassifier(max_iter=5, tol=-np.infty, random_state = 42)\n",
    "sgd_clf.fit(X_train, y_train_5)\n",
    "\n",
    "# Predecimos la imagen que vimos antes\n",
    "\n",
    "sgd_clf.predict([some_digit])\n",
    "\n",
    "# Nos da true, con lo que la identifica como un 5. Parece que ha funcionado correctamente, así que evaluaremos \n",
    "# el rendimiento del modelo."
   ]
  },
  {
   "cell_type": "code",
   "execution_count": 37,
   "metadata": {},
   "outputs": [
    {
     "data": {
      "text/plain": [
       "array([0.90775, 0.96365, 0.96965])"
      ]
     },
     "execution_count": 37,
     "metadata": {},
     "output_type": "execute_result"
    }
   ],
   "source": [
    "# Mediciones de Rendimiento\n",
    "\n",
    "# Cross-Validation\n",
    "# cross_val_score con 3 folds.\n",
    "\n",
    "cross_val_score(sgd_clf, X_train, y_train_5, cv = 3, scoring = \"accuracy\")\n",
    "\n",
    "# Parece que sale un \"accuracy\" altísimo, pero esto se debe a que hay muchas imágenes que no son 5. Por ello\n",
    "# la medida de \"accuracy\" no es la medida preferida para los clasificadores. Especialmente en los datasets\n",
    "# 'skewed', es decir, cuando unas clases son mucho más frecuentes que otras"
   ]
  },
  {
   "cell_type": "code",
   "execution_count": 38,
   "metadata": {},
   "outputs": [],
   "source": [
    "# NOTA\n",
    "# En ocasiones necesitamos más control que el que nos proporciona cross_val_score. Para ello podemos usar esto:\n",
    "#\n",
    "# from sklearn.model_selection import StratifiedKFold\n",
    "# from sklearn.base import clone\n",
    "\n",
    "# skfolds = StratifiedKFold(n_splits=3, random_state=42)\n",
    "\n",
    "# for train_index, test_index in skfolds.split(X_train, y_train_5):\n",
    "#     clone_clf = clone(sgd_clf)\n",
    "#     X_train_folds = X_train[train_index]\n",
    "#     y_train_folds = (y_train_5[train_index])\n",
    "#     X_test_fold = X_train[test_index]\n",
    "#     y_test_fold = (y_train_5[test_index])\n",
    "\n",
    "#     clone_clf.fit(X_train_folds, y_train_folds)\n",
    "#     y_pred = clone_clf.predict(X_test_fold)\n",
    "#     n_correct = sum(y_pred == y_test_fold)\n",
    "#     print(n_correct / len(y_pred)) # prints 0.9502, 0.96565 and 0.96495"
   ]
  },
  {
   "cell_type": "code",
   "execution_count": 41,
   "metadata": {},
   "outputs": [
    {
     "data": {
      "text/plain": [
       "array([[52422,  2157],\n",
       "       [ 1022,  4399]])"
      ]
     },
     "execution_count": 41,
     "metadata": {},
     "output_type": "execute_result"
    }
   ],
   "source": [
    "# Matriz de Confusión\n",
    "\n",
    "# Una forma mucho mejor de evaluar el comportamiento de un clasificador es mirar la matriz de confusión.\n",
    "# La idea general es contar el número de veces que una instancia de clase A es clasificada como clase B.\n",
    "# Por ejemplo, para saber el número de veces que el clasificador confundió imágenes de 5s con 3s, tienes que\n",
    "# mirar en la quinta fila y tercera columna de la matriz de confusión.\n",
    "\n",
    "# Para calcular la matriz de confusión, primero necesitamos un set de predicciones, para que puedan compararse\n",
    "# con los objetivos. Se podrían hacer predicciones en el test set pero por ahora lo vamos a dejar sin tocar.\n",
    "# En su lugar vamos a usar la función cross_val_predict()\n",
    "\n",
    "y_train_pred = cross_val_predict(sgd_clf, X_train, y_train_5, cv = 3)\n",
    "\n",
    "# Es parecida a cross_val_score() pero en lugar de devolver los evaluation scores, devuelve las predicciones\n",
    "# hechas en cada test fold\n",
    "# Ahora ya se puede crear la matriz de confusión\n",
    "\n",
    "confusion_matrix(y_train_5, y_train_pred)\n",
    "\n",
    "# Cada fila de la matriz representa una 'actual class', mientras cada columna representa una 'predicted class'.\n",
    "# La primera fila considera imágenes que no son 5 (la clase negativa). 52422 fueron clasificadas correctamente\n",
    "# como no-5s (true negatives), mientras que 2157 fueron erróneamente clasificados como 5s (false positives).\n",
    "# La segunda fila considera imágenes que son 5s (la clase positiva). 1022 fueron clasificadas erróneamente\n",
    "# como no-5s (false negatives), mientras que los 4399 restantes fueron clasificados correctamente como 5s\n",
    "# (true positives). Un clasificador perfecto solo tendría true positives y true negatives, por lo que los valores\n",
    "# fuera de la diagonal principal serán cero."
   ]
  },
  {
   "cell_type": "code",
   "execution_count": 46,
   "metadata": {},
   "outputs": [
    {
     "name": "stdout",
     "output_type": "stream",
     "text": [
      "0.6709884075655888\n",
      "0.811473897804833\n"
     ]
    }
   ],
   "source": [
    "# Aunque la matriz de confusión nos da información muy valiosa, a veces puede que queramos otras métricas. \n",
    "# Para ello tenemos 'precision' y 'recall', incluidas en Scikit-Learn.\n",
    "\n",
    "print(precision_score(y_train_5, y_train_pred)) # 4399/ (4399 + 2157) # TP/(TP+FP)\n",
    "\n",
    "print(recall_score(y_train_5, y_train_pred)) # 4399/ (4399 + 1022) # TP/(TP+FN)\n",
    "\n",
    "# Esto significa que cuando el predictor dice que es un 5, sólo es correcto el 67% de las veces, y que nuestro\n",
    "# predictor detecta el 81% de los 5s"
   ]
  },
  {
   "cell_type": "code",
   "execution_count": 49,
   "metadata": {},
   "outputs": [
    {
     "data": {
      "text/plain": [
       "0.734574601319195"
      ]
     },
     "execution_count": 49,
     "metadata": {},
     "output_type": "execute_result"
    }
   ],
   "source": [
    "# Es recomendable también combinar precision y recall en una única métrica llamada F1 score. Es una media\n",
    "# armónica de precision y recall, lo que significa que da mucho peso a valores bajos. Por lo tanto sólo se\n",
    "# obtendrá un valor alto de F1 score si recall y precision son altos.\n",
    "\n",
    "# F1 = 2 / ((1/Prec) + (1/Rec))\n",
    "\n",
    "f1_score(y_train_5, y_train_pred)\n",
    "\n",
    "# Esta métrica favorece a clasificadores que tengan similar precision y recall, pero a veces eso no es lo que\n",
    "# queremos. Por ejemplo, si estamos entrenando un clasificador para decidir si ciertos vídeos son aptos para\n",
    "# niños, preferiremos que se descarten videos adecuados (bajo recall) pero los que se quede sean adecuados\n",
    "# (alta precisión), antes que tener un recall alto pero que se dejen pasar algunos videos no muy aptos. En estos\n",
    "# casos incluso se puede querer tener un pipeline humano para supervisar.\n",
    "# Por otro lado, si tenemos un clasificador para detectar ladrones en cámaras de seguridad, nos parecerá bien si\n",
    "# tenemos un 30% de precisión pero un 99% de recall (se tendrán algunas falsas alertas pero casi todos los \n",
    "# ladrones se pillarán)\n",
    "# Por desgracia no se pueden tener ambas, mejorar la precisión reduce el recall y viceversa, esto se llama \n",
    "# Precision/Recall Tradeof"
   ]
  },
  {
   "cell_type": "code",
   "execution_count": 51,
   "metadata": {},
   "outputs": [
    {
     "name": "stdout",
     "output_type": "stream",
     "text": [
      "[18759.2767421]\n",
      "[ True]\n"
     ]
    }
   ],
   "source": [
    "# Precision/Recall Tradeof\n",
    "# SGDClassifier hace las predicciones asignando un score a cada instancia y comparándolo con un umbral decide\n",
    "# si es verdadero o falso. Scikit-Learn no nos deja fijar directamente el umbral, pero nos da acceso a los\n",
    "# decision scores que usa para hacer predicciones. decision_function() devuelve un score para cada instancia.\n",
    "# Luego podemos fijar un umbral y hacer predicciones en base a ello.\n",
    "\n",
    "y_scores = sgd_clf.decision_function([some_digit])\n",
    "print(y_scores)\n",
    "threshold = 0\n",
    "y_some_digit_pred = (y_scores > threshold)\n",
    "print(y_some_digit_pred)"
   ]
  },
  {
   "cell_type": "code",
   "execution_count": 52,
   "metadata": {},
   "outputs": [
    {
     "name": "stdout",
     "output_type": "stream",
     "text": [
      "[False]\n"
     ]
    }
   ],
   "source": [
    "# SGDClassifier usa un umbral 0, por lo que el código anterior devuelve lo mismo que predict()\n",
    "# Subamos el umbral\n",
    "\n",
    "threshold = 200000\n",
    "y_some_digit_pred = (y_scores > threshold)\n",
    "print(y_some_digit_pred)\n",
    "\n",
    "# Subir el umbral baja el recall, la imagen es un 5 pero el clasificador falla si subimos el umbral a 200000."
   ]
  },
  {
   "cell_type": "code",
   "execution_count": 56,
   "metadata": {},
   "outputs": [
    {
     "data": {
      "image/png": "[encoded data removed]",
      "text/plain": [
       "<Figure size 576x288 with 1 Axes>"
      ]
     },
     "metadata": {
      "needs_background": "light"
     },
     "output_type": "display_data"
    }
   ],
   "source": [
    "# ¿Entonces cómo podemos decidir el umbral que utilizar?\n",
    "# Primero debo sacar todos los scores de las instancias del training set\n",
    "\n",
    "y_scores = cross_val_predict(sgd_clf, X_train, y_train_5, cv = 3, method = \"decision_function\")\n",
    "\n",
    "# Con estos scores podemos computar precision y recall para todos los posibles umbrales\n",
    "\n",
    "precisions, recalls, thresholds = precision_recall_curve(y_train_5, y_scores)\n",
    "\n",
    "# Finalmente representamos precision y recall en función del umbral\n",
    "\n",
    "def plot_precision_recall_vs_threshold(precisions, recalls, thresholds):\n",
    "    plt.plot(thresholds, precisions[:-1], \"b--\", label = \"Precision\")\n",
    "    plt.plot(thresholds, recalls[:-1], \"g-\", label = \"Recall\")\n",
    "    plt.xlabel(\"Threshold\")\n",
    "    plt.legend(loc = \"upper left\")\n",
    "    plt.ylim([0, 1])\n",
    "\n",
    "    \n",
    "plt.figure(figsize=(8, 4))\n",
    "plot_precision_recall_vs_threshold(precisions, recalls, thresholds)\n",
    "plt.xlim([-700000, 700000])\n",
    "plt.show()\n",
    "\n",
    "# De aquí podríamos seleccionar el umbral que nos interese según porcentajes de Precision y Recall"
   ]
  },
  {
   "cell_type": "code",
   "execution_count": 57,
   "metadata": {},
   "outputs": [
    {
     "data": {
      "image/png": "[encoded data removed]",
      "text/plain": [
       "<Figure size 576x432 with 1 Axes>"
      ]
     },
     "metadata": {
      "needs_background": "light"
     },
     "output_type": "display_data"
    }
   ],
   "source": [
    "# Otra ayuda puede ser representar precision vs recall (PR)\n",
    "\n",
    "def plot_precision_vs_recall(precisions, recalls):\n",
    "    plt.plot(recalls, precisions, \"b-\", linewidth=2)\n",
    "    plt.xlabel(\"Recall\", fontsize=16)\n",
    "    plt.ylabel(\"Precision\", fontsize=16)\n",
    "    plt.axis([0, 1, 0, 1])\n",
    "\n",
    "plt.figure(figsize=(8, 6))\n",
    "plot_precision_vs_recall(precisions, recalls)\n",
    "plt.show()\n",
    "\n",
    "# Vemos una caida abrupta en torno al 80% de recall.\n",
    "# Un buen clasificador tendrá esta curva lo más pegado posible arriba a la derecha."
   ]
  },
  {
   "cell_type": "code",
   "execution_count": 63,
   "metadata": {},
   "outputs": [
    {
     "name": "stdout",
     "output_type": "stream",
     "text": [
      "0.8935643564356436\n",
      "0.4661501567976388\n"
     ]
    }
   ],
   "source": [
    "# Supongamos que decidimos un 90% de precision. Haciendo zoom en el primer plot veriamos que le corresponde un\n",
    "# umbral de aproximadamente 200000. Hagamos predicciones de otra forma, sin usar predict().\n",
    "\n",
    "y_train_pred_90 = (y_scores > 200000)\n",
    "print(precision_score(y_train_5, y_train_pred_90))\n",
    "print(recall_score(y_train_5, y_train_pred_90))"
   ]
  },
  {
   "cell_type": "code",
   "execution_count": 66,
   "metadata": {},
   "outputs": [
    {
     "data": {
      "image/png": "[encoded data removed]",
      "text/plain": [
       "<Figure size 576x432 with 1 Axes>"
      ]
     },
     "metadata": {
      "needs_background": "light"
     },
     "output_type": "display_data"
    }
   ],
   "source": [
    "# Curva ROC - Receiver Operating Characteristic\n",
    "\n",
    "# Parecida a la curva precision/recall, pero hace plot del true positive rate (recall) vs false positive rate.\n",
    "# FPR: Ratio de negativos que son incorrectamente clasificados como positivos. (1 - True negative rate)\n",
    "# TNR: Ratio de negativos correctamente clasificados como negativos (specificity)\n",
    "# Entonces ROC representa sensitivity (recall) vs (1 - specificity)\n",
    "\n",
    "fpr, tpr, thresholds = roc_curve(y_train_5, y_scores)\n",
    "\n",
    "# plot FPR vs TPR\n",
    "\n",
    "def plot_roc_curve(fpr, tpr, label = None):\n",
    "    plt.plot(fpr, tpr, linewidth = 2, label = label)\n",
    "    plt.plot([0, 1], [0, 1], 'k--')\n",
    "    plt.axis([0, 1, 0, 1])\n",
    "    plt.xlabel('False Positive Rate')\n",
    "    plt.ylabel('True Positive Rate')\n",
    "    \n",
    "plt.figure(figsize=(8, 6))\n",
    "plot_roc_curve(fpr, tpr)\n",
    "plt.show()\n",
    "\n",
    "# Volvemos a tener tradeoff: a mayor recall (TPR), más falsos positivos (FPR) se producen. La linea de puntos\n",
    "# representa la curva ROC de un clasificador puramente aleatorio. Un buen clasificador se aleja tanto como sea\n",
    "# posible de esa línea, arriba a la izquierda."
   ]
  },
  {
   "cell_type": "code",
   "execution_count": 68,
   "metadata": {},
   "outputs": [
    {
     "data": {
      "text/plain": [
       "0.9567793160707978"
      ]
     },
     "execution_count": 68,
     "metadata": {},
     "output_type": "execute_result"
    }
   ],
   "source": [
    "# Una forma de comparar clasificadores es medir el área bajo la curva (AUC). Un clasificador perfecto tendrá \n",
    "# ROC AUC igual a 1. Un clasificador puramente aleatorio tendrá un ROC AUC igual a 0.5\n",
    "\n",
    "roc_auc_score(y_train_5, y_scores)\n",
    "\n",
    "# Como la curva ROC es parecida a la Precision/Recall (PR), para decidir cual usar podemos aplicar lo siguiente:\n",
    "# Preferimos PR si la positive class es rara o si te preocupan más los falsos positivos que los falsos negativos,\n",
    "# y la curva ROC a la inversa.\n",
    "# Por ejemplo, mirando la curva ROC anterior, y el score ROC AUC, podríamos pensar que el clasificador es \n",
    "# realmente bueno, pero esto es porque hay pocos positivos (5s) comparado con los negativos (no-5s). En cambio, \n",
    "# la curva PR deja claro que el clasificador tiene posibilidades de mejora, la curva debería estar más pegada\n",
    "# arriba a la derecha."
   ]
  },
  {
   "cell_type": "code",
   "execution_count": 74,
   "metadata": {},
   "outputs": [
    {
     "data": {
      "image/png": "[encoded data removed]",
      "text/plain": [
       "<Figure size 576x432 with 1 Axes>"
      ]
     },
     "metadata": {
      "needs_background": "light"
     },
     "output_type": "display_data"
    },
    {
     "data": {
      "text/plain": [
       "0.9917875474301439"
      ]
     },
     "execution_count": 74,
     "metadata": {},
     "output_type": "execute_result"
    }
   ],
   "source": [
    "# Entrenemos un Random Forest Classifier y comparemos su curva ROC y el ROC AUC score con el SGDClassifier\n",
    "\n",
    "forest_clf = RandomForestClassifier(n_estimators=10, random_state=42)\n",
    "y_probas_forest = cross_val_predict(forest_clf, X_train, y_train_5, cv = 3, method=\"predict_proba\")\n",
    "\n",
    "# Esto nos da probabilidades, pero necesitamos scores para la ROC.\n",
    "\n",
    "y_scores_forest = y_probas_forest[:, 1] # score = proba of positive class\n",
    "fpr_forest, tpr_forest, thresholds_forest = roc_curve(y_train_5, y_scores_forest)\n",
    "\n",
    "# Ahora sí estamos listos para plotear la curva ROC. Haremos el plot de la primera ROC también para compararlas\n",
    "\n",
    "plt.figure(figsize=(8, 6))\n",
    "plt.plot(fpr, tpr, \"b:\", label = \"SGD\")\n",
    "plot_roc_curve(fpr_forest, tpr_forest, \"Random Forest\")\n",
    "plt.legend(loc = \"lower right\")\n",
    "plt.show()\n",
    "\n",
    "# Podemos ver que el Random Forest tiene una curva ROC con mucho mejor pinta que la del SGD, se va mucho más\n",
    "# arriba a la izquierda. En consecuencia, ROC AUC debe ser significativamente mejor.\n",
    "\n",
    "roc_auc_score(y_train_5, y_scores_forest)"
   ]
  },
  {
   "cell_type": "code",
   "execution_count": 75,
   "metadata": {},
   "outputs": [
    {
     "name": "stdout",
     "output_type": "stream",
     "text": [
      "0.982686828840675\n",
      "0.8271536616860358\n"
     ]
    }
   ],
   "source": [
    "# Mostramos precision score y recall score, 98.2% y 82.7%, no parece mal resultado.\n",
    "\n",
    "y_train_pred_forest = cross_val_predict(forest_clf, X_train, y_train_5, cv=3)\n",
    "print(precision_score(y_train_5, y_train_pred_forest))\n",
    "\n",
    "print(recall_score(y_train_5, y_train_pred_forest))"
   ]
  },
  {
   "cell_type": "code",
   "execution_count": null,
   "metadata": {},
   "outputs": [],
   "source": []
  }
 ],
 "metadata": {
  "kernelspec": {
   "display_name": "Python 3",
   "language": "python",
   "name": "python3"
  },
  "language_info": {
   "codemirror_mode": {
    "name": "ipython",
    "version": 3
   },
   "file_extension": ".py",
   "mimetype": "text/x-python",
   "name": "python",
   "nbconvert_exporter": "python",
   "pygments_lexer": "ipython3",
   "version": "3.6.7"
  }
 },
 "nbformat": 4,
 "nbformat_minor": 2
}
