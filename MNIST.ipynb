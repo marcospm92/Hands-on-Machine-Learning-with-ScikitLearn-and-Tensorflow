{
 "cells": [
  {
   "cell_type": "code",
   "execution_count": 32,
   "metadata": {},
   "outputs": [],
   "source": [
    "%matplotlib inline\n",
    "import matplotlib\n",
    "import matplotlib.pyplot as plt\n",
    "import numpy as np\n",
    "import os\n",
    "from sklearn.linear_model import SGDClassifier\n",
    "from sklearn.model_selection import cross_val_score\n",
    "\n",
    "# Antes se usaba otra función en la que venían los datos ordenados, pero la cambiarion y vienen sin orden\n",
    "# Para solucionarlo definimos esta función\n",
    "\n",
    "def sort_by_target(mnist):\n",
    "    reorder_train = np.array(sorted([(target, i) for i, target in enumerate(mnist.target[:60000])]))[:, 1]\n",
    "    reorder_test = np.array(sorted([(target, i) for i, target in enumerate(mnist.target[60000:])]))[:, 1]\n",
    "    mnist.data[:60000] = mnist.data[reorder_train]\n",
    "    mnist.target[:60000] = mnist.target[reorder_train]\n",
    "    mnist.data[60000:] = mnist.data[reorder_test + 60000]\n",
    "    mnist.target[60000:] = mnist.target[reorder_test + 60000]\n",
    "\n",
    "try:\n",
    "    from sklearn.datasets import fetch_openml\n",
    "    mnist = fetch_openml('mnist_784', version=1, cache=True)\n",
    "    mnist.target = mnist.target.astype(np.int8) # fetch_openml() returns targets as strings\n",
    "    sort_by_target(mnist) # fetch_openml() returns an unsorted dataset\n",
    "except ImportError:\n",
    "    from sklearn.datasets import fetch_mldata\n",
    "    mnist = fetch_mldata('MNIST original')\n",
    "\n",
    "# mnist[\"data\"] es un array de una fila por instancia y una columna por \"feature\"\n",
    "# mnist[\"target\"] es un array con los labels\n",
    "\n",
    "X, y = mnist[\"data\"], mnist[\"target\"]"
   ]
  },
  {
   "cell_type": "code",
   "execution_count": 24,
   "metadata": {},
   "outputs": [
    {
     "data": {
      "text/plain": [
       "(70000, 784)"
      ]
     },
     "execution_count": 24,
     "metadata": {},
     "output_type": "execute_result"
    }
   ],
   "source": [
    "# Podemos comprobar la forma, 70.000 imágenes con 784 atributos, 28*28 pixeles que pueden ir de 0 (blanco)\n",
    "# a 255 (negro)\n",
    "\n",
    "X.shape"
   ]
  },
  {
   "cell_type": "code",
   "execution_count": 25,
   "metadata": {},
   "outputs": [
    {
     "data": {
      "text/plain": [
       "(70000,)"
      ]
     },
     "execution_count": 25,
     "metadata": {},
     "output_type": "execute_result"
    }
   ],
   "source": [
    "# y debe tener 70.000 labels, una por instancia o imagen\n",
    "\n",
    "y.shape"
   ]
  },
  {
   "cell_type": "code",
   "execution_count": 26,
   "metadata": {},
   "outputs": [
    {
     "data": {
      "image/png": "[encoded data removed]",
      "text/plain": [
       "<Figure size 432x288 with 1 Axes>"
      ]
     },
     "metadata": {
      "needs_background": "light"
     },
     "output_type": "display_data"
    }
   ],
   "source": [
    "# Vamos a tomar una imagen cualquiera y mostrarla, por ejemplo la 36000. Tomamos su vector X, la escalamos a\n",
    "# un array de 28*28, y hacemos el plot con imshow.\n",
    "\n",
    "some_digit = X[36000]\n",
    "some_digit_image = some_digit.reshape(28, 28)\n",
    "\n",
    "plt.imshow(some_digit_image, cmap = matplotlib.cm.binary, interpolation=\"nearest\")\n",
    "plt.axis(\"off\")\n",
    "plt.show()"
   ]
  },
  {
   "cell_type": "code",
   "execution_count": 27,
   "metadata": {},
   "outputs": [
    {
     "data": {
      "text/plain": [
       "5"
      ]
     },
     "execution_count": 27,
     "metadata": {},
     "output_type": "execute_result"
    }
   ],
   "source": [
    "# Tiene pinta de ser un 5, y lo comprobamos viendo su label\n",
    "\n",
    "y[36000]"
   ]
  },
  {
   "cell_type": "code",
   "execution_count": 28,
   "metadata": {},
   "outputs": [],
   "source": [
    "# Antes de empezar a trabajar con el dataset debemos separar el training set del test set.\n",
    "# MNIST ya viene preparado para ello, las primeras 60.000 imagenes para training y las 10.000 restantes test.\n",
    "\n",
    "X_train, X_test, y_train, y_test = X[:60000], X[60000:], y[:60000], y[60000:]"
   ]
  },
  {
   "cell_type": "code",
   "execution_count": 29,
   "metadata": {},
   "outputs": [],
   "source": [
    "# Deberíamos también mezclar los datos para que los folds de cross-validation sean similares y no falten dígitos\n",
    "\n",
    "shuffle_index = np.random.permutation(60000)\n",
    "X_train, y_train = X_train[shuffle_index], y_train[shuffle_index]"
   ]
  },
  {
   "cell_type": "code",
   "execution_count": 30,
   "metadata": {},
   "outputs": [],
   "source": [
    "# Clasificador Binario\n",
    "\n",
    "# Vamos a simplificar primero el problema, entrenando un sistema que detecte si un dígito es un 5 o no lo es.\n",
    "# Primero creamos los vectores objetivo para esta tarea de clasificación\n",
    "\n",
    "y_train_5 = (y_train == 5) # Verdadero para los 5s, falso para todos los demás\n",
    "y_test_5 = (y_test == 5)"
   ]
  },
  {
   "cell_type": "code",
   "execution_count": 31,
   "metadata": {},
   "outputs": [
    {
     "data": {
      "text/plain": [
       "array([ True])"
      ]
     },
     "execution_count": 31,
     "metadata": {},
     "output_type": "execute_result"
    }
   ],
   "source": [
    "# SGD Classifier\n",
    "# Un buen lugar para empezar es un 'Stochastic Gradient Descent Classifier', usando las herramientas de \n",
    "# Scikit-Learn. Este clasificador es capaz de manejar muchos datos de forma eficaz. Lo entrenaremos con todo el\n",
    "# training set, con 'random_state' fijo a 42 ya que si no sería aleatorio, así siempre nos sale lo mismo. Los\n",
    "# parámetros max_iter y tol son relativamente nuevos, así que añadimos estos valores para que cuadren con el libro\n",
    "\n",
    "sgd_clf = SGDClassifier(max_iter=5, tol=-np.infty, random_state = 42)\n",
    "sgd_clf.fit(X_train, y_train_5)\n",
    "\n",
    "# Predecimos la imagen que vimos antes\n",
    "\n",
    "sgd_clf.predict([some_digit])\n",
    "\n",
    "# Nos da true, con lo que la identifica como un 5. Parece que ha funcionado correctamente, así que evaluaremos \n",
    "# el rendimiento del modelo."
   ]
  },
  {
   "cell_type": "code",
   "execution_count": 33,
   "metadata": {},
   "outputs": [
    {
     "data": {
      "text/plain": [
       "array([0.96025, 0.8396 , 0.85925])"
      ]
     },
     "execution_count": 33,
     "metadata": {},
     "output_type": "execute_result"
    }
   ],
   "source": [
    "# Mediciones de Rendimiento\n",
    "\n",
    "# Cross-Validation\n",
    "# cross_val_score con 3 folds.\n",
    "\n",
    "cross_val_score(sgd_clf, X_train, y_train_5, cv = 3, scoring = \"accuracy\")\n",
    "\n",
    "# Parece que sale un \"accuracy\" altísimo, pero esto se debe a que hay muchas imágenes que no son 5. Por ello\n",
    "# la medida de \"accuracy\" no es la medida preferida para los clasificadores. Especialmente en los datasets\n",
    "# 'skewed', es decir, cuando unas clases son mucho más frecuentes que otras"
   ]
  },
  {
   "cell_type": "code",
   "execution_count": null,
   "metadata": {},
   "outputs": [],
   "source": [
    "# NOTA\n",
    "# En ocasiones necesitamos más control que el que nos proporciona cross_val_score. Para ello podemos usar esto:\n",
    "#\n",
    "# from sklearn.model_selection import StratifiedKFold\n",
    "# from sklearn.base import clone\n",
    "\n",
    "# skfolds = StratifiedKFold(n_splits=3, random_state=42)\n",
    "\n",
    "# for train_index, test_index in skfolds.split(X_train, y_train_5):\n",
    "#     clone_clf = clone(sgd_clf)\n",
    "#     X_train_folds = X_train[train_index]\n",
    "#     y_train_folds = (y_train_5[train_index])\n",
    "#     X_test_fold = X_train[test_index]\n",
    "#     y_test_fold = (y_train_5[test_index])\n",
    "\n",
    "#     clone_clf.fit(X_train_folds, y_train_folds)\n",
    "#     y_pred = clone_clf.predict(X_test_fold)\n",
    "#     n_correct = sum(y_pred == y_test_fold)\n",
    "#     print(n_correct / len(y_pred)) # prints 0.9502, 0.96565 and 0.96495"
   ]
  },
  {
   "cell_type": "code",
   "execution_count": null,
   "metadata": {},
   "outputs": [],
   "source": [
    "# Matriz de Confusión\n",
    "\n",
    "# Una forma mucho mejor de evaluar el comportamiento de un clasificador es mirar la matriz de confusión.\n",
    "# La idea general es conar el número de veces que una instancia de clase A es clasificada como clase B.\n",
    "# Por ejemplo, para saber el número de veces que el clasificador confundió imágenes de 5s con 3s, tienes que\n",
    "# mirar en la quinta fila y tercera columna de la matriz de confusión."
   ]
  }
 ],
 "metadata": {
  "kernelspec": {
   "display_name": "Python 3",
   "language": "python",
   "name": "python3"
  },
  "language_info": {
   "codemirror_mode": {
    "name": "ipython",
    "version": 3
   },
   "file_extension": ".py",
   "mimetype": "text/x-python",
   "name": "python",
   "nbconvert_exporter": "python",
   "pygments_lexer": "ipython3",
   "version": "3.6.7"
  }
 },
 "nbformat": 4,
 "nbformat_minor": 2
}
