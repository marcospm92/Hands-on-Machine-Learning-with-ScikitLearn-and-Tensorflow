{
 "cells": [
  {
   "cell_type": "code",
   "execution_count": 1,
   "metadata": {},
   "outputs": [],
   "source": [
    "%matplotlib inline\n",
    "import matplotlib\n",
    "import matplotlib.pyplot as plt\n",
    "import numpy as np\n",
    "import os\n",
    "from sklearn.linear_model import SGDClassifier\n",
    "from sklearn.model_selection import cross_val_score\n",
    "from sklearn.model_selection import cross_val_predict\n",
    "from sklearn.metrics import confusion_matrix\n",
    "from sklearn.metrics import precision_score, recall_score, f1_score, precision_recall_curve, roc_curve \n",
    "from sklearn.metrics import roc_auc_score\n",
    "from sklearn.ensemble import RandomForestClassifier\n",
    "\n",
    "# Antes se usaba otra función en la que venían los datos ordenados, pero la cambiarion y vienen sin orden\n",
    "# Para solucionarlo definimos esta función\n",
    "\n",
    "def sort_by_target(mnist):\n",
    "    reorder_train = np.array(sorted([(target, i) for i, target in enumerate(mnist.target[:60000])]))[:, 1]\n",
    "    reorder_test = np.array(sorted([(target, i) for i, target in enumerate(mnist.target[60000:])]))[:, 1]\n",
    "    mnist.data[:60000] = mnist.data[reorder_train]\n",
    "    mnist.target[:60000] = mnist.target[reorder_train]\n",
    "    mnist.data[60000:] = mnist.data[reorder_test + 60000]\n",
    "    mnist.target[60000:] = mnist.target[reorder_test + 60000]\n",
    "\n",
    "try:\n",
    "    from sklearn.datasets import fetch_openml\n",
    "    mnist = fetch_openml('mnist_784', version=1, cache=True)\n",
    "    mnist.target = mnist.target.astype(np.int8) # fetch_openml() returns targets as strings\n",
    "    sort_by_target(mnist) # fetch_openml() returns an unsorted dataset\n",
    "except ImportError:\n",
    "    from sklearn.datasets import fetch_mldata\n",
    "    mnist = fetch_mldata('MNIST original')\n"
   ]
  },
  {
   "cell_type": "code",
   "execution_count": 2,
   "metadata": {},
   "outputs": [],
   "source": [
    "# mnist[\"data\"] es un array de una fila por instancia y una columna por \"feature\"\n",
    "# mnist[\"target\"] es un array con los labels\n",
    "\n",
    "X, y = mnist[\"data\"], mnist[\"target\"]"
   ]
  },
  {
   "cell_type": "code",
   "execution_count": 3,
   "metadata": {},
   "outputs": [
    {
     "data": {
      "text/plain": [
       "(70000, 784)"
      ]
     },
     "execution_count": 3,
     "metadata": {},
     "output_type": "execute_result"
    }
   ],
   "source": [
    "# Podemos comprobar la forma, 70.000 imágenes con 784 atributos, 28*28 pixeles que pueden ir de 0 (blanco)\n",
    "# a 255 (negro)\n",
    "\n",
    "X.shape"
   ]
  },
  {
   "cell_type": "code",
   "execution_count": 4,
   "metadata": {},
   "outputs": [
    {
     "data": {
      "text/plain": [
       "(70000,)"
      ]
     },
     "execution_count": 4,
     "metadata": {},
     "output_type": "execute_result"
    }
   ],
   "source": [
    "# y debe tener 70.000 labels, una por instancia o imagen\n",
    "\n",
    "y.shape"
   ]
  },
  {
   "cell_type": "code",
   "execution_count": 5,
   "metadata": {},
   "outputs": [
    {
     "data": {
      "image/png": "[encoded data removed]",
      "text/plain": [
       "<Figure size 432x288 with 1 Axes>"
      ]
     },
     "metadata": {
      "needs_background": "light"
     },
     "output_type": "display_data"
    }
   ],
   "source": [
    "# Vamos a tomar una imagen cualquiera y mostrarla, por ejemplo la 36000. Tomamos su vector X, la escalamos a\n",
    "# un array de 28*28, y hacemos el plot con imshow.\n",
    "\n",
    "some_digit = X[36000]\n",
    "some_digit_image = some_digit.reshape(28, 28)\n",
    "\n",
    "plt.imshow(some_digit_image, cmap = matplotlib.cm.binary, interpolation=\"nearest\")\n",
    "plt.axis(\"off\")\n",
    "plt.show()"
   ]
  },
  {
   "cell_type": "code",
   "execution_count": 6,
   "metadata": {},
   "outputs": [
    {
     "data": {
      "text/plain": [
       "5"
      ]
     },
     "execution_count": 6,
     "metadata": {},
     "output_type": "execute_result"
    }
   ],
   "source": [
    "# Tiene pinta de ser un 5, y lo comprobamos viendo su label\n",
    "\n",
    "y[36000]"
   ]
  },
  {
   "cell_type": "code",
   "execution_count": 7,
   "metadata": {},
   "outputs": [],
   "source": [
    "# Antes de empezar a trabajar con el dataset debemos separar el training set del test set.\n",
    "# MNIST ya viene preparado para ello, las primeras 60.000 imagenes para training y las 10.000 restantes test.\n",
    "\n",
    "X_train, X_test, y_train, y_test = X[:60000], X[60000:], y[:60000], y[60000:]"
   ]
  },
  {
   "cell_type": "code",
   "execution_count": 8,
   "metadata": {},
   "outputs": [],
   "source": [
    "# Deberíamos también mezclar los datos para que los folds de cross-validation sean similares y no falten dígitos\n",
    "\n",
    "shuffle_index = np.random.permutation(60000)\n",
    "X_train, y_train = X_train[shuffle_index], y_train[shuffle_index]"
   ]
  },
  {
   "cell_type": "code",
   "execution_count": 9,
   "metadata": {},
   "outputs": [],
   "source": [
    "# Clasificador Binario\n",
    "\n",
    "# Vamos a simplificar primero el problema, entrenando un sistema que detecte si un dígito es un 5 o no lo es.\n",
    "# Primero creamos los vectores objetivo para esta tarea de clasificación\n",
    "\n",
    "y_train_5 = (y_train == 5) # Verdadero para los 5s, falso para todos los demás\n",
    "y_test_5 = (y_test == 5)"
   ]
  },
  {
   "cell_type": "code",
   "execution_count": 10,
   "metadata": {},
   "outputs": [
    {
     "data": {
      "text/plain": [
       "array([ True])"
      ]
     },
     "execution_count": 10,
     "metadata": {},
     "output_type": "execute_result"
    }
   ],
   "source": [
    "# SGD Classifier\n",
    "# Un buen lugar para empezar es un 'Stochastic Gradient Descent Classifier', usando las herramientas de \n",
    "# Scikit-Learn. Este clasificador es capaz de manejar muchos datos de forma eficaz. Lo entrenaremos con todo el\n",
    "# training set, con 'random_state' fijo a 42 ya que si no sería aleatorio, así siempre nos sale lo mismo. Los\n",
    "# parámetros max_iter y tol son relativamente nuevos, así que añadimos estos valores para que cuadren con el libro\n",
    "\n",
    "sgd_clf = SGDClassifier(max_iter=5, tol=-np.infty, random_state = 42)\n",
    "sgd_clf.fit(X_train, y_train_5)\n",
    "\n",
    "# Predecimos la imagen que vimos antes\n",
    "\n",
    "sgd_clf.predict([some_digit])\n",
    "\n",
    "# Nos da true, con lo que la identifica como un 5. Parece que ha funcionado correctamente, así que evaluaremos \n",
    "# el rendimiento del modelo."
   ]
  },
  {
   "cell_type": "code",
   "execution_count": 11,
   "metadata": {},
   "outputs": [
    {
     "data": {
      "text/plain": [
       "array([0.95895, 0.9697 , 0.9612 ])"
      ]
     },
     "execution_count": 11,
     "metadata": {},
     "output_type": "execute_result"
    }
   ],
   "source": [
    "# Mediciones de Rendimiento\n",
    "\n",
    "# Cross-Validation\n",
    "# cross_val_score con 3 folds.\n",
    "\n",
    "cross_val_score(sgd_clf, X_train, y_train_5, cv = 3, scoring = \"accuracy\")\n",
    "\n",
    "# Parece que sale un \"accuracy\" altísimo, pero esto se debe a que hay muchas imágenes que no son 5. Por ello\n",
    "# la medida de \"accuracy\" no es la medida preferida para los clasificadores. Especialmente en los datasets\n",
    "# 'skewed', es decir, cuando unas clases son mucho más frecuentes que otras"
   ]
  },
  {
   "cell_type": "code",
   "execution_count": 12,
   "metadata": {},
   "outputs": [],
   "source": [
    "# NOTA\n",
    "# En ocasiones necesitamos más control que el que nos proporciona cross_val_score. Para ello podemos usar esto:\n",
    "#\n",
    "# from sklearn.model_selection import StratifiedKFold\n",
    "# from sklearn.base import clone\n",
    "\n",
    "# skfolds = StratifiedKFold(n_splits=3, random_state=42)\n",
    "\n",
    "# for train_index, test_index in skfolds.split(X_train, y_train_5):\n",
    "#     clone_clf = clone(sgd_clf)\n",
    "#     X_train_folds = X_train[train_index]\n",
    "#     y_train_folds = (y_train_5[train_index])\n",
    "#     X_test_fold = X_train[test_index]\n",
    "#     y_test_fold = (y_train_5[test_index])\n",
    "\n",
    "#     clone_clf.fit(X_train_folds, y_train_folds)\n",
    "#     y_pred = clone_clf.predict(X_test_fold)\n",
    "#     n_correct = sum(y_pred == y_test_fold)\n",
    "#     print(n_correct / len(y_pred)) # prints 0.9502, 0.96565 and 0.96495"
   ]
  },
  {
   "cell_type": "code",
   "execution_count": 13,
   "metadata": {},
   "outputs": [
    {
     "data": {
      "text/plain": [
       "array([[53837,   742],\n",
       "       [ 1461,  3960]])"
      ]
     },
     "execution_count": 13,
     "metadata": {},
     "output_type": "execute_result"
    }
   ],
   "source": [
    "# Matriz de Confusión\n",
    "\n",
    "# Una forma mucho mejor de evaluar el comportamiento de un clasificador es mirar la matriz de confusión.\n",
    "# La idea general es contar el número de veces que una instancia de clase A es clasificada como clase B.\n",
    "# Por ejemplo, para saber el número de veces que el clasificador confundió imágenes de 5s con 3s, tienes que\n",
    "# mirar en la quinta fila y tercera columna de la matriz de confusión.\n",
    "\n",
    "# Para calcular la matriz de confusión, primero necesitamos un set de predicciones, para que puedan compararse\n",
    "# con los objetivos. Se podrían hacer predicciones en el test set pero por ahora lo vamos a dejar sin tocar.\n",
    "# En su lugar vamos a usar la función cross_val_predict()\n",
    "\n",
    "y_train_pred = cross_val_predict(sgd_clf, X_train, y_train_5, cv = 3)\n",
    "\n",
    "# Es parecida a cross_val_score() pero en lugar de devolver los evaluation scores, devuelve las predicciones\n",
    "# hechas en cada test fold\n",
    "# Ahora ya se puede crear la matriz de confusión\n",
    "\n",
    "confusion_matrix(y_train_5, y_train_pred)\n",
    "\n",
    "# Cada fila de la matriz representa una 'actual class', mientras cada columna representa una 'predicted class'.\n",
    "# La primera fila considera imágenes que no son 5 (clase negativa). 52422 (1-1) fueron clasificadas correctamente\n",
    "# como no-5s (true negatives), mientras que 2157 (1-2) fueron erróneamente clasificados como 5s (false positives).\n",
    "# La segunda fila considera imágenes que son 5s (la clase positiva). 1022 (2-1) fueron clasificadas erróneamente\n",
    "# como no-5s (false negatives), mientras que los 4399 (2-2) restantes fueron clasificados correctamente como 5s\n",
    "# (true positives). Un clasificador perfecto solo tendría true positives y true negatives, por lo que los valores\n",
    "# fuera de la diagonal principal serán cero."
   ]
  },
  {
   "cell_type": "code",
   "execution_count": 14,
   "metadata": {},
   "outputs": [
    {
     "name": "stdout",
     "output_type": "stream",
     "text": [
      "0.8421948107188431\n",
      "0.7304925290536801\n"
     ]
    }
   ],
   "source": [
    "# Aunque la matriz de confusión nos da información muy valiosa, a veces puede que queramos otras métricas. \n",
    "# Para ello tenemos 'precision' y 'recall', incluidas en Scikit-Learn.\n",
    "\n",
    "print(precision_score(y_train_5, y_train_pred)) # TP/(TP+FP)\n",
    "\n",
    "print(recall_score(y_train_5, y_train_pred)) # TP/(TP+FN)\n",
    "\n",
    "# Esto significa que cuando el predictor dice que es un 5, sólo es correcto el 67% de las veces (recall),\n",
    "# y que nuestro predictor detecta el 81% de los 5s (precision)"
   ]
  },
  {
   "cell_type": "code",
   "execution_count": 15,
   "metadata": {},
   "outputs": [
    {
     "data": {
      "text/plain": [
       "0.782376765780895"
      ]
     },
     "execution_count": 15,
     "metadata": {},
     "output_type": "execute_result"
    }
   ],
   "source": [
    "# Es recomendable también combinar precision y recall en una única métrica llamada F1 score. Es una media\n",
    "# armónica de precision y recall, lo que significa que da mucho peso a valores bajos. Por lo tanto sólo se\n",
    "# obtendrá un valor alto de F1 score si recall y precision son altos.\n",
    "\n",
    "# F1 = 2 / ((1/Prec) + (1/Rec))\n",
    "\n",
    "f1_score(y_train_5, y_train_pred)\n",
    "\n",
    "# Esta métrica favorece a clasificadores que tengan similar precision y recall, pero a veces eso no es lo que\n",
    "# queremos. Por ejemplo, si estamos entrenando un clasificador para decidir si ciertos vídeos son aptos para\n",
    "# niños, preferiremos que se descarten videos adecuados (bajo recall) pero los que se quede sean adecuados\n",
    "# (alta precisión), antes que tener un recall alto pero que se dejen pasar algunos videos no muy aptos. En estos\n",
    "# casos incluso se puede querer tener un pipeline humano para supervisar.\n",
    "# Por otro lado, si tenemos un clasificador para detectar ladrones en cámaras de seguridad, nos parecerá bien si\n",
    "# tenemos un 30% de precisión pero un 99% de recall (se tendrán algunas falsas alertas pero casi todos los \n",
    "# ladrones se pillarán)\n",
    "# Por desgracia no se pueden tener ambas, mejorar la precisión reduce el recall y viceversa, esto se llama \n",
    "# Precision/Recall Tradeof"
   ]
  },
  {
   "cell_type": "code",
   "execution_count": 16,
   "metadata": {},
   "outputs": [
    {
     "name": "stdout",
     "output_type": "stream",
     "text": [
      "[88985.42560951]\n",
      "[ True]\n"
     ]
    }
   ],
   "source": [
    "# Precision/Recall Tradeof\n",
    "# SGDClassifier hace las predicciones asignando un score a cada instancia y comparándolo con un umbral decide\n",
    "# si es verdadero o falso. Scikit-Learn no nos deja fijar directamente el umbral, pero nos da acceso a los\n",
    "# decision scores que usa para hacer predicciones. decision_function() devuelve un score para cada instancia.\n",
    "# Luego podemos fijar un umbral y hacer predicciones en base a ello.\n",
    "\n",
    "y_scores = sgd_clf.decision_function([some_digit])\n",
    "print(y_scores)\n",
    "threshold = 0\n",
    "y_some_digit_pred = (y_scores > threshold)\n",
    "print(y_some_digit_pred)"
   ]
  },
  {
   "cell_type": "code",
   "execution_count": 17,
   "metadata": {},
   "outputs": [
    {
     "name": "stdout",
     "output_type": "stream",
     "text": [
      "[False]\n"
     ]
    }
   ],
   "source": [
    "# SGDClassifier usa un umbral 0, por lo que el código anterior devuelve lo mismo que predict()\n",
    "# Subamos el umbral\n",
    "\n",
    "threshold = 200000\n",
    "y_some_digit_pred = (y_scores > threshold)\n",
    "print(y_some_digit_pred)\n",
    "\n",
    "# Subir el umbral baja el recall, la imagen es un 5 pero el clasificador falla si subimos el umbral a 200000."
   ]
  },
  {
   "cell_type": "code",
   "execution_count": 18,
   "metadata": {},
   "outputs": [
    {
     "data": {
      "image/png": "[encoded data removed]",
      "text/plain": [
       "<Figure size 576x288 with 1 Axes>"
      ]
     },
     "metadata": {
      "needs_background": "light"
     },
     "output_type": "display_data"
    }
   ],
   "source": [
    "# ¿Entonces cómo podemos decidir el umbral que utilizar?\n",
    "# Primero debo sacar todos los scores de las instancias del training set\n",
    "\n",
    "y_scores = cross_val_predict(sgd_clf, X_train, y_train_5, cv = 3, method = \"decision_function\")\n",
    "\n",
    "# Con estos scores podemos computar precision y recall para todos los posibles umbrales\n",
    "\n",
    "precisions, recalls, thresholds = precision_recall_curve(y_train_5, y_scores)\n",
    "\n",
    "# Finalmente representamos precision y recall en función del umbral\n",
    "\n",
    "def plot_precision_recall_vs_threshold(precisions, recalls, thresholds):\n",
    "    plt.plot(thresholds, precisions[:-1], \"b--\", label = \"Precision\")\n",
    "    plt.plot(thresholds, recalls[:-1], \"g-\", label = \"Recall\")\n",
    "    plt.xlabel(\"Threshold\")\n",
    "    plt.legend(loc = \"upper left\")\n",
    "    plt.ylim([0, 1])\n",
    "\n",
    "    \n",
    "plt.figure(figsize=(8, 4))\n",
    "plot_precision_recall_vs_threshold(precisions, recalls, thresholds)\n",
    "plt.xlim([-700000, 700000])\n",
    "plt.show()\n",
    "\n",
    "# De aquí podríamos seleccionar el umbral que nos interese según porcentajes de Precision y Recall"
   ]
  },
  {
   "cell_type": "code",
   "execution_count": 19,
   "metadata": {},
   "outputs": [
    {
     "data": {
      "image/png": "[encoded data removed]",
      "text/plain": [
       "<Figure size 576x432 with 1 Axes>"
      ]
     },
     "metadata": {
      "needs_background": "light"
     },
     "output_type": "display_data"
    }
   ],
   "source": [
    "# Otra ayuda puede ser representar precision vs recall (PR)\n",
    "\n",
    "def plot_precision_vs_recall(precisions, recalls):\n",
    "    plt.plot(recalls, precisions, \"b-\", linewidth=2)\n",
    "    plt.xlabel(\"Recall\", fontsize=16)\n",
    "    plt.ylabel(\"Precision\", fontsize=16)\n",
    "    plt.axis([0, 1, 0, 1])\n",
    "\n",
    "plt.figure(figsize=(8, 6))\n",
    "plot_precision_vs_recall(precisions, recalls)\n",
    "plt.show()\n",
    "\n",
    "# Vemos una caida abrupta en torno al 80% de recall.\n",
    "# Un buen clasificador tendrá esta curva lo más pegado posible arriba a la derecha."
   ]
  },
  {
   "cell_type": "code",
   "execution_count": 20,
   "metadata": {},
   "outputs": [
    {
     "name": "stdout",
     "output_type": "stream",
     "text": [
      "0.96318407960199\n",
      "0.3571296808706881\n"
     ]
    }
   ],
   "source": [
    "# Supongamos que decidimos un 90% de precision. Haciendo zoom en el primer plot veriamos que le corresponde un\n",
    "# umbral de aproximadamente 200000 (varía segun intentos). Hagamos predicciones de otra forma, sin usar predict().\n",
    "\n",
    "y_train_pred_90 = (y_scores > 200000)\n",
    "print(precision_score(y_train_5, y_train_pred_90))\n",
    "print(recall_score(y_train_5, y_train_pred_90))"
   ]
  },
  {
   "cell_type": "code",
   "execution_count": 21,
   "metadata": {},
   "outputs": [
    {
     "data": {
      "image/png": "[encoded data removed]",
      "text/plain": [
       "<Figure size 576x432 with 1 Axes>"
      ]
     },
     "metadata": {
      "needs_background": "light"
     },
     "output_type": "display_data"
    }
   ],
   "source": [
    "# Curva ROC - Receiver Operating Characteristic\n",
    "\n",
    "# Parecida a la curva precision/recall, pero hace plot del true positive rate (recall) vs false positive rate.\n",
    "# FPR: Ratio de negativos que son incorrectamente clasificados como positivos. (1 - True negative rate)\n",
    "# TNR: Ratio de negativos correctamente clasificados como negativos (specificity)\n",
    "# Entonces ROC representa sensitivity (recall) vs (1 - specificity)\n",
    "\n",
    "fpr, tpr, thresholds = roc_curve(y_train_5, y_scores)\n",
    "\n",
    "# plot FPR vs TPR\n",
    "\n",
    "def plot_roc_curve(fpr, tpr, label = None):\n",
    "    plt.plot(fpr, tpr, linewidth = 2, label = label)\n",
    "    plt.plot([0, 1], [0, 1], 'k--')\n",
    "    plt.axis([0, 1, 0, 1])\n",
    "    plt.xlabel('False Positive Rate')\n",
    "    plt.ylabel('True Positive Rate')\n",
    "    \n",
    "plt.figure(figsize=(8, 6))\n",
    "plot_roc_curve(fpr, tpr)\n",
    "plt.show()\n",
    "\n",
    "# Volvemos a tener tradeoff: a mayor recall (TPR), más falsos positivos (FPR) se producen. La linea de puntos\n",
    "# representa la curva ROC de un clasificador puramente aleatorio. Un buen clasificador se aleja tanto como sea\n",
    "# posible de esa línea, arriba a la izquierda."
   ]
  },
  {
   "cell_type": "code",
   "execution_count": 22,
   "metadata": {},
   "outputs": [
    {
     "data": {
      "text/plain": [
       "0.9549506178093267"
      ]
     },
     "execution_count": 22,
     "metadata": {},
     "output_type": "execute_result"
    }
   ],
   "source": [
    "# Una forma de comparar clasificadores es medir el área bajo la curva (AUC). Un clasificador perfecto tendrá \n",
    "# ROC AUC igual a 1. Un clasificador puramente aleatorio tendrá un ROC AUC igual a 0.5\n",
    "\n",
    "roc_auc_score(y_train_5, y_scores)\n",
    "\n",
    "# Como la curva ROC es parecida a la Precision/Recall (PR), para decidir cual usar podemos aplicar lo siguiente:\n",
    "# Preferimos PR si la positive class es rara o si te preocupan más los falsos positivos que los falsos negativos,\n",
    "# y la curva ROC a la inversa.\n",
    "# Por ejemplo, mirando la curva ROC anterior, y el score ROC AUC, podríamos pensar que el clasificador es \n",
    "# realmente bueno, pero esto es porque hay pocos positivos (5s) comparado con los negativos (no-5s). En cambio, \n",
    "# la curva PR deja claro que el clasificador tiene posibilidades de mejora, la curva debería estar más pegada\n",
    "# arriba a la derecha."
   ]
  },
  {
   "cell_type": "code",
   "execution_count": 23,
   "metadata": {},
   "outputs": [
    {
     "data": {
      "image/png": "[encoded data removed]",
      "text/plain": [
       "<Figure size 576x432 with 1 Axes>"
      ]
     },
     "metadata": {
      "needs_background": "light"
     },
     "output_type": "display_data"
    },
    {
     "data": {
      "text/plain": [
       "0.9916215875757591"
      ]
     },
     "execution_count": 23,
     "metadata": {},
     "output_type": "execute_result"
    }
   ],
   "source": [
    "# Entrenemos un Random Forest Classifier y comparemos su curva ROC y el ROC AUC score con el SGDClassifier\n",
    "\n",
    "forest_clf = RandomForestClassifier(n_estimators=10, random_state=42)\n",
    "y_probas_forest = cross_val_predict(forest_clf, X_train, y_train_5, cv = 3, method=\"predict_proba\")\n",
    "\n",
    "# Esto nos da probabilidades, pero necesitamos scores para la ROC.\n",
    "\n",
    "y_scores_forest = y_probas_forest[:, 1] # score = proba of positive class\n",
    "fpr_forest, tpr_forest, thresholds_forest = roc_curve(y_train_5, y_scores_forest)\n",
    "\n",
    "# Ahora sí estamos listos para plotear la curva ROC. Haremos el plot de la primera ROC también para compararlas\n",
    "\n",
    "plt.figure(figsize=(8, 6))\n",
    "plt.plot(fpr, tpr, \"b:\", label = \"SGD\")\n",
    "plot_roc_curve(fpr_forest, tpr_forest, \"Random Forest\")\n",
    "plt.legend(loc = \"lower right\")\n",
    "plt.show()\n",
    "\n",
    "# Podemos ver que el Random Forest tiene una curva ROC con mucho mejor pinta que la del SGD, se va mucho más\n",
    "# arriba a la izquierda. En consecuencia, ROC AUC debe ser significativamente mejor.\n",
    "\n",
    "roc_auc_score(y_train_5, y_scores_forest)"
   ]
  },
  {
   "cell_type": "code",
   "execution_count": 24,
   "metadata": {},
   "outputs": [
    {
     "name": "stdout",
     "output_type": "stream",
     "text": [
      "0.984409310496267\n",
      "0.8269691938756687\n"
     ]
    }
   ],
   "source": [
    "# Mostramos precision score y recall score, 98.2% y 82.7%, no parece mal resultado.\n",
    "\n",
    "y_train_pred_forest = cross_val_predict(forest_clf, X_train, y_train_5, cv=3)\n",
    "print(precision_score(y_train_5, y_train_pred_forest))\n",
    "\n",
    "print(recall_score(y_train_5, y_train_pred_forest))"
   ]
  },
  {
   "cell_type": "code",
   "execution_count": 25,
   "metadata": {},
   "outputs": [
    {
     "data": {
      "text/plain": [
       "array([5], dtype=int8)"
      ]
     },
     "execution_count": 25,
     "metadata": {},
     "output_type": "execute_result"
    }
   ],
   "source": [
    "# Clasificador Multiclase\n",
    "\n",
    "# Se puede usar directamente un clasificador multiclase (Random Forest, Naive Bayes, ...), o varios binarios\n",
    "# (Support Vector Machine, Linear, ...). Por ejemplo si quieres distinguir dígitor del 0 al 9 puedes entrenar \n",
    "# 9 clasificadores binarios, uno para distinguir cada uno, y seleccionar el que tenga el mayor score. Esto se \n",
    "# conoce como estrategia OvA (One versus All).\n",
    "# Otra estrategia es entrenar un clasificador binario para cada par de números: 0-1, 0-2, 1-2, ... Esto se llama\n",
    "# OvO (One versus One). Para N clases necesitaría N*(N-1)/2 clasificadores. Para nuestro caso significaría\n",
    "# entrenar 45 clasificadores, y cada vez que quisiera clasificar una imagen tendría que pasarla por todos los\n",
    "# clasificadores y elegir el que gane el mayor número de duelos. Lo bueno es que se entrenan con un training\n",
    "# set menor, sólo con las dos partes del duelo.\n",
    "# Algunos algoritmos como los Support Vector Machine escalan muy mal con el tamaño del training set, así que \n",
    "# en esos casos OvO funciona mejor porque entrenar más clasificadores con un training set más pequeño es más\n",
    "# rápido. Para la mayoría de algoritmos binarios sin embargo OvA es mejor.\n",
    "\n",
    "# Scikit-Learn detecta automáticamente si estoy tratando de usar un clasificador binario para multiclass, y si es\n",
    "# así lanza OvA automáticamente, excepto en el caso de SVM que lanza OvO.\n",
    "\n",
    "# Probemos con el SGDClassifier\n",
    "\n",
    "sgd_clf.fit(X_train, y_train)\n",
    "sgd_clf.predict([some_digit])\n",
    "\n",
    "# Este código está entrenando el SGDClassifier en el trainig set de 0 a 9, después hace una predicción correcta.\n",
    "# Se han entrenado 10 clasificadores binarios, recogido sus scores y seleccionado aquel mayor, todo sin enterarnos"
   ]
  },
  {
   "cell_type": "code",
   "execution_count": 26,
   "metadata": {},
   "outputs": [
    {
     "name": "stdout",
     "output_type": "stream",
     "text": [
      "[[ -65322.85557794 -628693.81700181 -464691.63914215 -369961.92741903\n",
      "  -338013.14648236   88985.42560951 -707680.4855376  -410552.24350702\n",
      "  -540384.09177753 -530577.004247  ]]\n",
      "5\n",
      "[0 1 2 3 4 5 6 7 8 9]\n",
      "5\n"
     ]
    }
   ],
   "source": [
    "# Vamos a ver esto, tendremos un vector de 10 scores, uno por clase\n",
    "\n",
    "some_digit_scores = sgd_clf.decision_function([some_digit])\n",
    "print(some_digit_scores)\n",
    "\n",
    "# Chequeamos cual es el mayor\n",
    "\n",
    "print(np.argmax(some_digit_scores))\n",
    "print(sgd_clf.classes_)\n",
    "print(sgd_clf.classes_[5])"
   ]
  },
  {
   "cell_type": "code",
   "execution_count": 27,
   "metadata": {},
   "outputs": [
    {
     "name": "stdout",
     "output_type": "stream",
     "text": [
      "[5]\n",
      "45\n"
     ]
    }
   ],
   "source": [
    "# Podemos forzar a Scikit-Learn a usar OvO o OvA. Por ejemplo, a continuación un OvO SGDClassifier\n",
    "\n",
    "from sklearn.multiclass import OneVsOneClassifier\n",
    "ovo_clf = OneVsOneClassifier(SGDClassifier(max_iter=5, tol=-np.infty, random_state = 42))\n",
    "ovo_clf.fit(X_train, y_train)\n",
    "print(ovo_clf.predict([some_digit]))\n",
    "print(len(ovo_clf.estimators_))"
   ]
  },
  {
   "cell_type": "code",
   "execution_count": 28,
   "metadata": {},
   "outputs": [
    {
     "data": {
      "text/plain": [
       "array([5], dtype=int8)"
      ]
     },
     "execution_count": 28,
     "metadata": {},
     "output_type": "execute_result"
    }
   ],
   "source": [
    "# Entrenar un Random Forest también es muy sencillo\n",
    "\n",
    "forest_clf.fit(X_train, y_train)\n",
    "forest_clf.predict([some_digit])"
   ]
  },
  {
   "cell_type": "code",
   "execution_count": 29,
   "metadata": {},
   "outputs": [
    {
     "data": {
      "text/plain": [
       "array([[0.2, 0. , 0. , 0.2, 0. , 0.6, 0. , 0. , 0. , 0. ]])"
      ]
     },
     "execution_count": 29,
     "metadata": {},
     "output_type": "execute_result"
    }
   ],
   "source": [
    "# Esta vez Scikit-Learn no ha tenido que lanzar OvA u OvO porque los clasificadores Random Forest son capaces\n",
    "# de clasificar instancias en diferentes clases. Podemos ver la lista de probabilidades que el clasificador\n",
    "# asigna a cada clase\n",
    "\n",
    "forest_clf.predict_proba([some_digit])"
   ]
  },
  {
   "cell_type": "code",
   "execution_count": 30,
   "metadata": {},
   "outputs": [
    {
     "name": "stdout",
     "output_type": "stream",
     "text": [
      "[0.81778644 0.83694185 0.87188078]\n",
      "[0.91171766 0.90929546 0.90728609]\n"
     ]
    }
   ],
   "source": [
    "# Vamos a evaluar los clasificadores, usaremos cross-validation como habitualmente.\n",
    "# Evaluamos el SGDClassifier\n",
    "\n",
    "print(cross_val_score(sgd_clf, X_train, y_train, cv = 3, scoring = \"accuracy\"))\n",
    "\n",
    "# Obtenemos un 85% aprox en los tres folds. No está mal teniendo en cuenta que un clasificador aleatorio habría\n",
    "# tenido alrededor de un 10%, pero aún se puede mejorar. Por ejemplo, simplemente escalando las entradas se\n",
    "# aumenta la precisión por encima del 90%\n",
    "\n",
    "from sklearn.preprocessing import StandardScaler\n",
    "scaler = StandardScaler()\n",
    "X_train_scaled = scaler.fit_transform(X_train.astype(np.float64))\n",
    "print(cross_val_score(sgd_clf, X_train_scaled, y_train, cv=3, scoring=\"accuracy\"))"
   ]
  },
  {
   "cell_type": "code",
   "execution_count": 31,
   "metadata": {},
   "outputs": [
    {
     "data": {
      "text/plain": [
       "array([[5739,    2,   23,    8,   12,   47,   41,    8,   38,    5],\n",
       "       [   1, 6471,   53,   27,    6,   36,    9,   11,  117,   11],\n",
       "       [  59,   38, 5352,   90,   87,   23,   92,   54,  145,   18],\n",
       "       [  53,   37,  136, 5346,    3,  224,   39,   53,  141,   99],\n",
       "       [  21,   30,   36,   11, 5370,    9,   56,   32,   72,  205],\n",
       "       [  79,   45,   36,  187,   70, 4583,  109,   27,  183,  102],\n",
       "       [  36,   22,   53,    2,   42,   92, 5624,    5,   42,    0],\n",
       "       [  22,   16,   72,   28,   51,   11,    8, 5769,   16,  272],\n",
       "       [  52,  154,   76,  154,   13,  159,   58,   25, 5019,  141],\n",
       "       [  39,   33,   29,   90,  162,   34,    3,  186,   80, 5293]])"
      ]
     },
     "execution_count": 31,
     "metadata": {},
     "output_type": "execute_result"
    }
   ],
   "source": [
    "# Análisis de errores\n",
    "\n",
    "# Miremos la matriz de confusión.\n",
    "\n",
    "y_train_pred = cross_val_predict(sgd_clf, X_train_scaled, y_train, cv = 3)\n",
    "conf_mx = confusion_matrix(y_train, y_train_pred)\n",
    "conf_mx"
   ]
  },
  {
   "cell_type": "code",
   "execution_count": 32,
   "metadata": {},
   "outputs": [
    {
     "data": {
      "image/png": "[encoded data removed]",
      "text/plain": [
       "<Figure size 288x288 with 1 Axes>"
      ]
     },
     "metadata": {
      "needs_background": "light"
     },
     "output_type": "display_data"
    }
   ],
   "source": [
    "# A veces conviene mirar la representación en imagen de la matriz de confusión, puede ayudar\n",
    "\n",
    "plt.matshow(conf_mx, cmap = plt.cm.gray)\n",
    "plt.show()"
   ]
  },
  {
   "cell_type": "code",
   "execution_count": 33,
   "metadata": {},
   "outputs": [],
   "source": [
    "# Esta matriz tiene un muy buen aspecto, porque la mayoría de imágenes están en la diagonal principal, lo\n",
    "# cual implica que han sido clasificadas correctamente. La zona del 5 parece ligeramente más oscura que el resto,\n",
    "# lo que puede significar que había menos imágenes de 5s en el dataset o que el clasificador no funciona tan bien\n",
    "# con 5s como con otros dígitos. De hecho se puede comprobar que ambas son ciertas.\n",
    "\n",
    "# Enfoquemos el plot a los errores. \n",
    "# Primero vamos a dividir cada valor de la matriz entre el número de imágenes en la clase correspondiente, para\n",
    "# sacar ratios de error para cada clase en lugar de número absoluto de errores\n",
    "\n",
    "row_sums = conf_mx.sum(axis = 1, keepdims = True)\n",
    "norm_conf_mx = conf_mx / row_sums"
   ]
  },
  {
   "cell_type": "code",
   "execution_count": 34,
   "metadata": {},
   "outputs": [
    {
     "data": {
      "image/png": "[encoded data removed]",
      "text/plain": [
       "<Figure size 288x288 with 1 Axes>"
      ]
     },
     "metadata": {
      "needs_background": "light"
     },
     "output_type": "display_data"
    }
   ],
   "source": [
    "# Llenemos ahora la diagonal con ceros para quedarnos sólo con los errores, y mostremos el resultado\n",
    "\n",
    "np.fill_diagonal(norm_conf_mx, 0)\n",
    "plt.matshow(norm_conf_mx, cmap = plt.cm.gray)\n",
    "plt.show()\n",
    "\n",
    "# Recordemos que las filas son las clases reales, mientras las columnas son las predicciones.\n",
    "# Las columnas del 8 y 9 son bastante claras, lo cual implica que muchas imágenes son clasificadas erróneamente\n",
    "# como 8s y 9s. De manera similar, las filas del 8 y 9 son bastante claras, lo que implica que los 8s y 9s se\n",
    "# confunden bastante con otros números.\n",
    "\n",
    "# Por contra, otras filas son bastante oscuras, como la del 1. Significa que los 1s se clasifican bien, quitando\n",
    "# algunos que se confunden con 8s\n",
    "\n",
    "# Observando la matriz se pueden encontrar formas de mejora. Por ejemplo en este caso convendría centrarse en\n",
    "# detectar mejor 8s y 9s, así como en corregir las confusiones entre 3s y 5s. Se podría tratar de conseguir más\n",
    "# ejemplos de estos casos para el dataset, o mejorar el clasificador, por ejemplo escribiendo un algoritmo que\n",
    "# detecte el número de loops en la imagen (8: 2 loops, 6: 1 loop, 5: 0 loops). También se podría preprocesar las\n",
    "# imágenes para hacer destacar más algunos patrones"
   ]
  },
  {
   "cell_type": "code",
   "execution_count": 35,
   "metadata": {},
   "outputs": [],
   "source": [
    "import matplotlib as mpl\n",
    "\n",
    "# EXTRA\n",
    "def plot_digits(instances, images_per_row=10, **options):\n",
    "    size = 28\n",
    "    images_per_row = min(len(instances), images_per_row)\n",
    "    images = [instance.reshape(size,size) for instance in instances]\n",
    "    n_rows = (len(instances) - 1) // images_per_row + 1\n",
    "    row_images = []\n",
    "    n_empty = n_rows * images_per_row - len(instances)\n",
    "    images.append(np.zeros((size, size * n_empty)))\n",
    "    for row in range(n_rows):\n",
    "        rimages = images[row * images_per_row : (row + 1) * images_per_row]\n",
    "        row_images.append(np.concatenate(rimages, axis=1))\n",
    "    image = np.concatenate(row_images, axis=0)\n",
    "    plt.imshow(image, cmap = mpl.cm.binary, **options)\n",
    "    plt.axis(\"off\")"
   ]
  },
  {
   "cell_type": "code",
   "execution_count": 36,
   "metadata": {},
   "outputs": [
    {
     "data": {
      "image/png": "[encoded data removed]",
      "text/plain": [
       "<Figure size 576x576 with 4 Axes>"
      ]
     },
     "metadata": {
      "needs_background": "light"
     },
     "output_type": "display_data"
    }
   ],
   "source": [
    "# Analizar los errores individuales también puede ser una buena forma de sacar insights de lo que hace nuestro\n",
    "# clasificador y por qué falla, pero es más dificil y quita tiempo. Por ejemplo, mostremos ejemplos de 3s y 5s\n",
    "\n",
    "cl_a, cl_b = 3, 5\n",
    "X_aa = X_train[(y_train == cl_a) & (y_train_pred == cl_a)]\n",
    "X_ab = X_train[(y_train == cl_a) & (y_train_pred == cl_b)]\n",
    "X_ba = X_train[(y_train == cl_b) & (y_train_pred == cl_a)]\n",
    "X_bb = X_train[(y_train == cl_b) & (y_train_pred == cl_b)]\n",
    "\n",
    "plt.figure(figsize=(8,8))\n",
    "plt.subplot(221); plot_digits(X_aa[:25], images_per_row=5)\n",
    "plt.subplot(222); plot_digits(X_ab[:25], images_per_row=5)\n",
    "plt.subplot(223); plot_digits(X_ba[:25], images_per_row=5)\n",
    "plt.subplot(224); plot_digits(X_bb[:25], images_per_row=5)\n",
    "plt.show()"
   ]
  },
  {
   "cell_type": "code",
   "execution_count": 37,
   "metadata": {},
   "outputs": [],
   "source": [
    "# Los dos bloques de 5x5 de la izquierda son dígitos clasificador como 3s. Algunos de los dígitos mal clasificados\n",
    "# por ejemplo los de abajo a la izquierda o arriba a la derecha, están tan mal escritos que hasta algunas personas\n",
    "# podrían tener problemas clasificándolos.\n",
    "# Aún así, la mayoría de fallos nos parecen imágenes con errores obvios, y cuesta entender cómo el clasificador\n",
    "# puede fallar en ellas.\n",
    "# La razón es que utilizamos un SGD simple, que es un modelo lineal. Lo que hace es asignar un peso por clase a \n",
    "# cada pixel y computa la suma de las intensidades de píxeles para sacar un score para cada clase. Como los 3s y\n",
    "# los 5s difieren en unos pocos píxeles, este modelo los confunde fácilmente.\n",
    "\n",
    "# La principal diferencia entre 3s y 5s es la posición de la línea vertical que une la parte superior e inferior.\n",
    "# Si dibujas un 3 con la línea un poco a la izquierda, el clasificador podría identificarlo como un 5 y viceversa.\n",
    "# En otras palabras, el clasificador es bastante sensible a la posición y rotación de las imágenes, así que una \n",
    "# forma de reducir la confusión es preprocesar cada imagen para asegurar que esté centrada y no muy rotada."
   ]
  },
  {
   "cell_type": "code",
   "execution_count": 38,
   "metadata": {},
   "outputs": [
    {
     "data": {
      "text/plain": [
       "KNeighborsClassifier(algorithm='auto', leaf_size=30, metric='minkowski',\n",
       "           metric_params=None, n_jobs=None, n_neighbors=5, p=2,\n",
       "           weights='uniform')"
      ]
     },
     "execution_count": 38,
     "metadata": {},
     "output_type": "execute_result"
    }
   ],
   "source": [
    "# Clasificación Multilabel\n",
    "\n",
    "# Este tipo de clasificación es útil para encontrar varios objetos en la misma imagen.\n",
    "\n",
    "from sklearn.neighbors import KNeighborsClassifier\n",
    "\n",
    "y_train_large = (y_train >= 7)\n",
    "y_train_odd = (y_train % 2 == 1)\n",
    "y_multilabel = np.c_[y_train_large, y_train_odd]\n",
    "\n",
    "knn_clf = KNeighborsClassifier()\n",
    "knn_clf.fit(X_train, y_multilabel)\n",
    "\n",
    "# Este código crea un array y_multilabel, conteniendo dos labels objetivo para cada imagen. El primero indica\n",
    "# si el dígito es 7 o más, y el segundo indica si es impar o no. Después se crea un KNeighborsClassifier y lo\n",
    "# entrenamos usando el array de target múltiple."
   ]
  },
  {
   "cell_type": "code",
   "execution_count": 39,
   "metadata": {},
   "outputs": [
    {
     "data": {
      "text/plain": [
       "array([[False,  True]])"
      ]
     },
     "execution_count": 39,
     "metadata": {},
     "output_type": "execute_result"
    }
   ],
   "source": [
    "# Ahora se pueden hacer predicciones y ver que salen dos labels.\n",
    "\n",
    "knn_clf.predict([some_digit])\n",
    "\n",
    "# Y acierta! El 5 no es mayor que 7 (False), y es impar (True)"
   ]
  },
  {
   "cell_type": "code",
   "execution_count": null,
   "metadata": {},
   "outputs": [],
   "source": [
    "# Hay muchas maneras de evaluar un multilabel, y seleccionar la métrica correcta depende del proyecto. \n",
    "# Una forma sería medir F1 score para cada label individual, o cualquier otra métrica de binario de las previas, \n",
    "# y después símplemente hacer el score medio.\n",
    "\n",
    "# Ojo, esta celda va a tardar, puede que incluso horas\n",
    "\n",
    "y_train_knn_pred = cross_val_predict(knn_clf, X_train, y_multilabel, cv = 3, n_jobs = -1)\n",
    "f1_score(y_multilabel, y_train_knn_pred, average=\"macro\")"
   ]
  },
  {
   "cell_type": "code",
   "execution_count": null,
   "metadata": {},
   "outputs": [],
   "source": []
  },
  {
   "cell_type": "code",
   "execution_count": null,
   "metadata": {},
   "outputs": [],
   "source": []
  },
  {
   "cell_type": "code",
   "execution_count": null,
   "metadata": {},
   "outputs": [],
   "source": []
  },
  {
   "cell_type": "code",
   "execution_count": null,
   "metadata": {},
   "outputs": [],
   "source": []
  },
  {
   "cell_type": "code",
   "execution_count": null,
   "metadata": {},
   "outputs": [],
   "source": []
  }
 ],
 "metadata": {
  "kernelspec": {
   "display_name": "Python 3",
   "language": "python",
   "name": "python3"
  },
  "language_info": {
   "codemirror_mode": {
    "name": "ipython",
    "version": 3
   },
   "file_extension": ".py",
   "mimetype": "text/x-python",
   "name": "python",
   "nbconvert_exporter": "python",
   "pygments_lexer": "ipython3",
   "version": "3.6.7"
  }
 },
 "nbformat": 4,
 "nbformat_minor": 2
}
